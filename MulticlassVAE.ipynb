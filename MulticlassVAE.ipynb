{
 "cells": [
  {
   "cell_type": "code",
   "execution_count": 1,
   "metadata": {
    "collapsed": true
   },
   "outputs": [],
   "source": [
    "%matplotlib inline\n",
    "\n",
    "import tensorflow as tf\n",
    "import numpy as np\n",
    "import os\n",
    "import random\n",
    "import matplotlib.pyplot as plt"
   ]
  },
  {
   "cell_type": "markdown",
   "metadata": {},
   "source": [
    "### Define Hyperparameters"
   ]
  },
  {
   "cell_type": "code",
   "execution_count": 2,
   "metadata": {
    "collapsed": true
   },
   "outputs": [],
   "source": [
    "batch_size = 4\n",
    "n_classes = 5"
   ]
  },
  {
   "cell_type": "markdown",
   "metadata": {},
   "source": [
    "### Define Graph"
   ]
  },
  {
   "cell_type": "code",
   "execution_count": 3,
   "metadata": {
    "collapsed": true
   },
   "outputs": [],
   "source": [
    "def lrelu(x, alpha=0.3):\n",
    "    return tf.maximum(x, tf.multiply(x, alpha))"
   ]
  },
  {
   "cell_type": "code",
   "execution_count": 4,
   "metadata": {
    "collapsed": true
   },
   "outputs": [],
   "source": [
    "def scale_and_shift_flat(x, labels, reuse=True):\n",
    "    with tf.variable_scope(\"scale_and_shift\", reuse=reuse):\n",
    "        axis = [1,2]\n",
    "        x_shape = x.get_shape().as_list()\n",
    "        beta = tf.get_variable( 'beta', [n_classes])\n",
    "        gamma = tf.get_variable( 'gamma', [n_classes])\n",
    "        \n",
    "        class_shift = tf.gather(beta, labels)\n",
    "        print(f'class_shift shape: {class_shift.get_shape().as_list()}')\n",
    "        class_shift = tf.expand_dims(class_shift, 1)\n",
    "        print(f'class_shift shape: {class_shift.get_shape().as_list()}')\n",
    "        \n",
    "        class_scale = tf.gather(gamma, labels)\n",
    "        print(f'class_scale shape: {class_scale.get_shape().as_list()}')\n",
    "        class_scale = tf.expand_dims(class_scale, 1)\n",
    "        print(f'class_scale shape: {class_scale.get_shape().as_list()}')\n",
    "        \n",
    "        print(f'Prior x shape: {x.get_shape().as_list()}')\n",
    "        output = x + class_shift\n",
    "        print(f'output int1 shape: {output.get_shape().as_list()}')\n",
    "        output *= class_scale\n",
    "        print(f'output final shape: {output.get_shape().as_list()}\\n')\n",
    "        return output"
   ]
  },
  {
   "cell_type": "code",
   "execution_count": 5,
   "metadata": {
    "collapsed": true
   },
   "outputs": [],
   "source": [
    "def scale_and_shift(x, labels, reuse=True):\n",
    "    with tf.variable_scope(\"scale_and_shift\", reuse=reuse):\n",
    "        axis = [1,2]\n",
    "        x_shape = x.get_shape().as_list()\n",
    "        print(f'x shape: {x_shape}')\n",
    "        beta = tf.get_variable( 'beta', [n_classes])# ,\n",
    "                                     # initializer=tf.zeros_initializer())\n",
    "        print(f'beta shape: {beta.get_shape().as_list()}')\n",
    "        gamma = tf.get_variable( 'gamma', [n_classes])#,\n",
    "                                    # initializer=tf.ones_initializer())\n",
    "        print(f'gamma shape: {gamma.get_shape().as_list()}')\n",
    "        \n",
    "        conditioned_shift = tf.gather(beta, labels)\n",
    "        print(f'conditioned_shift shape: {conditioned_shift.get_shape().as_list()}')\n",
    "        conditioned_shift = tf.expand_dims(tf.expand_dims(tf.expand_dims(conditioned_shift, 1), 1), 1)\n",
    "        print(f'conditioned_shift shape: {conditioned_shift.get_shape().as_list()}')\n",
    "        \n",
    "        conditioned_scale = tf.gather(gamma, labels)\n",
    "        print(f'conditioned_scale shape: {conditioned_scale.get_shape().as_list()}')\n",
    "        conditioned_scale = tf.expand_dims(tf.expand_dims(tf.expand_dims(conditioned_scale, 1), 1), 1)\n",
    "        print(f'conditioned_scale shape: {conditioned_scale.get_shape().as_list()}')\n",
    "        \n",
    "        output = x + conditioned_shift\n",
    "        output *= conditioned_scale\n",
    "        \n",
    "#         mean, variance = tf.nn.moments(x, axis, keep_dims=True)\n",
    "#         print(f'mean shape: {mean.get_shape().as_list()}')\n",
    "#         print(f'variance shape: {variance.get_shape().as_list()}')\n",
    "        \n",
    "#         moments_shape = tf.shape(mean)\n",
    "#         mu = tf.zeros(moments_shape)\n",
    "#         sigma = tf.ones(moments_shape)\n",
    "#         print(f'mu shape: {mu.get_shape().as_list()}')\n",
    "#         print(f'sigma shape: {sigma.get_shape().as_list()}')\n",
    "        \n",
    "#         variance_epsilon = 0.01\n",
    "# #         output = tf.nn.batch_normalization(x=x, mean=conditioned_shift,\n",
    "# #                                            variance=conditioned_scale,\n",
    "# #                                            offset=None, scale=None,\n",
    "# #                                            variance_epsilon=variance_epsilon)\n",
    "#         output = tf.nn.batch_normalization(x=x, mean=mu,\n",
    "#                                            variance=sigma,\n",
    "#                                            offset=conditioned_shift, scale=conditioned_scale,\n",
    "#                                            variance_epsilon=variance_epsilon)\n",
    "#         print(f'output shape: {output.get_shape().as_list()}')\n",
    "        return output\n",
    "\n",
    "    "
   ]
  },
  {
   "cell_type": "code",
   "execution_count": 6,
   "metadata": {
    "collapsed": true
   },
   "outputs": [],
   "source": [
    "def encoder(X_in, labels, keep_prob):\n",
    "    activation = lrelu\n",
    "    with tf.variable_scope(\"encoder\", reuse=None):\n",
    "        X = tf.reshape(X_in, shape=[-1, 210, 160, 3])\n",
    "        \n",
    "        x = tf.layers.conv2d(X, filters=64, kernel_size=4, strides=2, padding='same', activation=activation)\n",
    "        print(f'x shape: {tf.shape(x)}')\n",
    "        x = scale_and_shift(x, labels, reuse=False)\n",
    "        x = tf.nn.dropout(x, keep_prob)\n",
    "        \n",
    "        x = tf.layers.conv2d(x, filters=64, kernel_size=4, strides=2, padding='same', activation=activation)\n",
    "        x = scale_and_shift(x, labels, reuse=True)\n",
    "        x = tf.nn.dropout(x, keep_prob)\n",
    "        \n",
    "        x = tf.layers.conv2d(x, filters=64, kernel_size=4, strides=1, padding='same', activation=activation)\n",
    "        x = tf.nn.dropout(x, keep_prob)\n",
    "        \n",
    "        x = tf.contrib.layers.flatten(x)\n",
    "        print(f'final x: {x.get_shape().as_list()}')\n",
    "        mn = tf.layers.dense(x, units=n_latent)\n",
    "        sd = 0.5 * tf.layers.dense(x, units=n_latent)            \n",
    "        epsilon = tf.random_normal(tf.stack([tf.shape(x)[0], n_latent])) \n",
    "        z  = mn + tf.multiply(epsilon, tf.exp(sd))\n",
    "        return z, mn, sd"
   ]
  },
  {
   "cell_type": "code",
   "execution_count": 10,
   "metadata": {
    "collapsed": true
   },
   "outputs": [],
   "source": [
    "def decoder(sampled_z, labels, keep_prob):\n",
    "    with tf.variable_scope(\"decoder\", reuse=None):\n",
    "        x = tf.layers.dense(sampled_z, units=inputs_decoder, activation=lrelu)\n",
    "        print(f'First x shape: {x.get_shape().as_list()}')\n",
    "        x = scale_and_shift_flat(x, labels, reuse=False)\n",
    "        print(f'x shape: {x.get_shape().as_list()}')\n",
    "        \n",
    "        x = tf.layers.dense(x, units=(inputs_decoder * 2 + 1), activation=lrelu)\n",
    "        x = scale_and_shift_flat(x, labels, reuse=True)\n",
    "        x = tf.reshape(x, reshaped_dim)\n",
    "        print(f'x shape: {x.get_shape().as_list()}')\n",
    "        \n",
    "        x = tf.layers.conv2d_transpose(x, filters=64, kernel_size=4, strides=2, padding='same', activation=tf.nn.relu)\n",
    "        x = scale_and_shift(x, labels)\n",
    "        x = tf.nn.dropout(x, keep_prob)\n",
    "        print(f'x shape: {x.get_shape().as_list()}')\n",
    "        \n",
    "        x = tf.layers.conv2d_transpose(x, filters=64, kernel_size=4, strides=1, padding='same', activation=tf.nn.relu)\n",
    "        x = scale_and_shift(x, labels)\n",
    "        x = tf.nn.dropout(x, keep_prob)\n",
    "        print(f'x shape: {x.get_shape().as_list()}')\n",
    "        \n",
    "        x = tf.layers.conv2d_transpose(x, filters=64, kernel_size=4, strides=1, padding='same', activation=tf.nn.relu)\n",
    "        x = scale_and_shift(x, labels)\n",
    "        print(f'x shape: {x.get_shape().as_list()}')\n",
    "        \n",
    "        x = tf.contrib.layers.flatten(x)\n",
    "        x = tf.layers.dense(x, units=210*160*3, activation=tf.nn.sigmoid)\n",
    "        img = tf.reshape(x, shape=[-1, 210, 160, 3])\n",
    "        return img"
   ]
  },
  {
   "cell_type": "markdown",
   "metadata": {},
   "source": [
    "### Initialize Graph"
   ]
  },
  {
   "cell_type": "code",
   "execution_count": 11,
   "metadata": {
    "scrolled": false
   },
   "outputs": [
    {
     "name": "stdout",
     "output_type": "stream",
     "text": [
      "Y_flat: [None, 100800]\n",
      "Labels: [None]\n",
      "x shape: Tensor(\"encoder/Shape:0\", shape=(4,), dtype=int32)\n",
      "x shape: [4, 105, 80, 64]\n",
      "beta shape: [5]\n",
      "gamma shape: [5]\n",
      "conditioned_shift shape: [4]\n",
      "conditioned_shift shape: [4, 1, 1, 1]\n",
      "conditioned_scale shape: [4]\n",
      "conditioned_scale shape: [4, 1, 1, 1]\n",
      "x shape: [4, 53, 40, 64]\n",
      "beta shape: [5]\n",
      "gamma shape: [5]\n",
      "conditioned_shift shape: [4]\n",
      "conditioned_shift shape: [4, 1, 1, 1]\n",
      "conditioned_scale shape: [4]\n",
      "conditioned_scale shape: [4, 1, 1, 1]\n",
      "final x: [4, 135680]\n",
      "First x shape: [4, 24]\n",
      "class_shift shape: [4]\n",
      "class_shift shape: [4, 1]\n",
      "class_scale shape: [4]\n",
      "class_scale shape: [4, 1]\n",
      "Prior x shape: [4, 24]\n",
      "output int1 shape: [4, 24]\n",
      "output final shape: [4, 24]\n",
      "\n",
      "x shape: [4, 24]\n",
      "class_shift shape: [4]\n",
      "class_shift shape: [4, 1]\n",
      "class_scale shape: [4]\n",
      "class_scale shape: [4, 1]\n",
      "Prior x shape: [4, 49]\n",
      "output int1 shape: [4, 49]\n",
      "output final shape: [4, 49]\n",
      "\n",
      "x shape: [4, 7, 7, 1]\n",
      "x shape: [4, 14, 14, 64]\n",
      "beta shape: [5]\n",
      "gamma shape: [5]\n",
      "conditioned_shift shape: [4]\n",
      "conditioned_shift shape: [4, 1, 1, 1]\n",
      "conditioned_scale shape: [4]\n",
      "conditioned_scale shape: [4, 1, 1, 1]\n",
      "x shape: [4, 14, 14, 64]\n",
      "x shape: [4, 14, 14, 64]\n",
      "beta shape: [5]\n",
      "gamma shape: [5]\n",
      "conditioned_shift shape: [4]\n",
      "conditioned_shift shape: [4, 1, 1, 1]\n",
      "conditioned_scale shape: [4]\n",
      "conditioned_scale shape: [4, 1, 1, 1]\n",
      "x shape: [4, 14, 14, 64]\n",
      "x shape: [4, 14, 14, 64]\n",
      "beta shape: [5]\n",
      "gamma shape: [5]\n",
      "conditioned_shift shape: [4]\n",
      "conditioned_shift shape: [4, 1, 1, 1]\n",
      "conditioned_scale shape: [4]\n",
      "conditioned_scale shape: [4, 1, 1, 1]\n",
      "x shape: [4, 14, 14, 64]\n",
      "dec: [4, 210, 160, 3]\n",
      "unreshaped: [4, 100800]\n"
     ]
    }
   ],
   "source": [
    "tf.reset_default_graph()\n",
    "\n",
    "X_in = tf.placeholder(dtype=tf.float32, shape=[None, 210, 160, 3], name='X')\n",
    "Labels = tf.placeholder(dtype=tf.int32, shape=[None], name='Labels')\n",
    "Y = tf.placeholder(dtype=tf.float32, shape=[None, 210, 160, 3], name='Y')\n",
    "Y_flat = tf.reshape(Y, shape=[-1, 210*160*3])\n",
    "print(f'Y_flat: {Y_flat.get_shape().as_list()}')\n",
    "print(f'Labels: {Labels.get_shape().as_list()}')\n",
    "keep_prob = tf.placeholder(dtype=tf.float32, shape=(), name='keep_prob')\n",
    "\n",
    "X_test = tf.constant(1, dtype=tf.float32, shape=[batch_size, 210, 160, 3], name='const_x_test')\n",
    "Labels_test = tf.constant(0, dtype=tf.int32, shape=[batch_size], name='Labels_test')\n",
    "Y_test = tf.constant(1, dtype=tf.float32, shape=[batch_size, 210, 160, 3], name='const_x_test')\n",
    "Y_flat_test = tf.reshape(Y, shape=[-1, 210*160*3])\n",
    "keep_prob_test = tf.constant(0.8, dtype=tf.float32, shape=(), name='keep_prob_test')\n",
    "\n",
    "dec_in_channels = 1\n",
    "n_latent = 8\n",
    "\n",
    "reshaped_dim = [-1, 7, 7, dec_in_channels]\n",
    "inputs_decoder = 49 * dec_in_channels // 2\n",
    "\n",
    "# sampled, mn, sd = encoder(X_in, Labels, keep_prob)\n",
    "sampled, mn, sd = encoder(X_test, Labels_test, keep_prob_test)\n",
    "# dec = decoder(sampled, keep_prob)\n",
    "dec = decoder(sampled, Labels_test, keep_prob_test)\n",
    "print(f'dec: {dec.get_shape().as_list()}')\n",
    "\n",
    "unreshaped = tf.reshape(dec, [-1, 210*160*3])\n",
    "print(f'unreshaped: {unreshaped.get_shape().as_list()}')\n",
    "# img_loss = tf.reduce_sum(tf.squared_difference(unreshaped, Y_flat), 1)\n",
    "img_loss = tf.reduce_sum(tf.squared_difference(unreshaped, Y_flat_test), 1)\n",
    "latent_loss = -0.5 * tf.reduce_sum(1.0 + 2.0 * sd - tf.square(mn) - tf.exp(2.0 * sd), 1)\n",
    "loss = tf.reduce_mean(img_loss + latent_loss)\n",
    "\n",
    "# introduce variable learning rate\n",
    "global_step = tf.Variable(0, trainable=False)\n",
    "starter_learning_rate = 0.0005\n",
    "learning_rate = tf.train.exponential_decay(starter_learning_rate, global_step,\n",
    "                                           1000, 0.96, staircase=True)\n",
    "\n",
    "optimizer = tf.train.AdamOptimizer(learning_rate).minimize(loss)"
   ]
  },
  {
   "cell_type": "code",
   "execution_count": null,
   "metadata": {},
   "outputs": [
    {
     "name": "stdout",
     "output_type": "stream",
     "text": [
      "creating session...\n",
      "initializing variables...\n"
     ]
    }
   ],
   "source": [
    "print('creating session...')\n",
    "sess = tf.Session()\n",
    "print('initializing variables...')\n",
    "sess.run(tf.global_variables_initializer())\n",
    "print('Session created. Variables initialized.')"
   ]
  },
  {
   "cell_type": "markdown",
   "metadata": {},
   "source": [
    "### Gather New Training Data"
   ]
  },
  {
   "cell_type": "code",
   "execution_count": 4,
   "metadata": {
    "scrolled": false
   },
   "outputs": [
    {
     "name": "stdout",
     "output_type": "stream",
     "text": [
      "Found 500 files.\n"
     ]
    }
   ],
   "source": [
    "directories = ['jamesbond', 'spaceinvaders', 'tutankham', 'venture', 'zaxxon']\n",
    "state_label_pairs = []\n",
    "for i, root_dir in enumerate(directories):\n",
    "    for dir_name, subdir_list, file_list in os.walk(root_dir+'/'):\n",
    "        for fname in file_list:\n",
    "            state_label_pairs.append((root_dir + '/' + fname, i))\n",
    "\n",
    "print(f'Found {len(state_label_pairs)} files.')"
   ]
  },
  {
   "cell_type": "markdown",
   "metadata": {},
   "source": [
    "### Train Model"
   ]
  },
  {
   "cell_type": "code",
   "execution_count": 5,
   "metadata": {
    "collapsed": true
   },
   "outputs": [],
   "source": [
    "def read_image(filename):\n",
    "    image = np.load(filename)\n",
    "    print(image.shape)\n",
    "    plt.imshow(image)\n",
    "    plt.show()"
   ]
  },
  {
   "cell_type": "code",
   "execution_count": 6,
   "metadata": {},
   "outputs": [
    {
     "name": "stdout",
     "output_type": "stream",
     "text": [
      "(210, 160, 3)\n"
     ]
    },
    {
     "data": {
      "image/png": "[encoded data removed]",
      "text/plain": [
       "<matplotlib.figure.Figure at 0x113108f28>"
      ]
     },
     "metadata": {},
     "output_type": "display_data"
    },
    {
     "name": "stdout",
     "output_type": "stream",
     "text": [
      "(210, 160, 3)\n"
     ]
    },
    {
     "data": {
      "image/png": "[encoded data removed]",
      "text/plain": [
       "<matplotlib.figure.Figure at 0x113156518>"
      ]
     },
     "metadata": {},
     "output_type": "display_data"
    },
    {
     "name": "stdout",
     "output_type": "stream",
     "text": [
      "(210, 160, 3)\n"
     ]
    },
    {
     "data": {
      "image/png": "[encoded data removed]",
      "text/plain": [
       "<matplotlib.figure.Figure at 0x11582eda0>"
      ]
     },
     "metadata": {},
     "output_type": "display_data"
    },
    {
     "name": "stdout",
     "output_type": "stream",
     "text": [
      "(210, 160, 3)\n"
     ]
    },
    {
     "data": {
      "image/png": "[encoded data removed]",
      "text/plain": [
       "<matplotlib.figure.Figure at 0x1158c8cc0>"
      ]
     },
     "metadata": {},
     "output_type": "display_data"
    }
   ],
   "source": [
    "for i in range(1):\n",
    "    next_batch = random.sample(state_label_pairs, batch_size)\n",
    "    batch = [read_image(b[0]) for b in next_batch]\n",
    "    labels = [lab[1] for lab in next_batch]\n",
    "#     sess.run(optimizer, feed_dict = {X_in: batch, Y: batch, Labels: labels, keep_prob: 0.8})\n",
    "        \n",
    "#     if not i % 200:\n",
    "#         ls, d, i_ls, mu, sigm = sess.run([loss, dec, img_loss, mn, sd], feed_dict = {X_in: batch, Y: batch, keep_prob: 1.0})\n",
    "#         plt.imshow(np.reshape(read_image(next_batch[0][0]), [210, 160, 3]), cmap='gray')\n",
    "#         plt.show()\n",
    "#         plt.imshow(d[0], cmap='gray')\n",
    "#         plt.show()\n",
    "#         print(i, ls, np.mean(i_ls))"
   ]
  },
  {
   "cell_type": "markdown",
   "metadata": {},
   "source": [
    "### Sample New Images"
   ]
  },
  {
   "cell_type": "code",
   "execution_count": null,
   "metadata": {
    "collapsed": true
   },
   "outputs": [],
   "source": [
    "n_samples = 10\n",
    "randoms = [np.random.normal(0, 1, n_latent) for _ in range(n_samples)]\n",
    "classes = [np.random.choice(n_classes) for _ in range(n_samples)]\n",
    "imgs = sess.run(dec, feed_dict = {sampled: randoms, keep_prob: 1.0})\n",
    "imgs = [np.reshape(imgs[i], [210, 160, 3]) for i in range(len(imgs))]\n",
    "\n",
    "for img in imgs:\n",
    "    plt.figure(figsize=(1,1))\n",
    "    plt.axis('off')\n",
    "    plt.imshow(img, cmap='gray')"
   ]
  }
 ],
 "metadata": {
  "kernelspec": {
   "display_name": "Venv Python 3",
   "language": "python",
   "name": "venv_3"
  },
  "language_info": {
   "codemirror_mode": {
    "name": "ipython",
    "version": 3
   },
   "file_extension": ".py",
   "mimetype": "text/x-python",
   "name": "python",
   "nbconvert_exporter": "python",
   "pygments_lexer": "ipython3",
   "version": "3.6.2"
  }
 },
 "nbformat": 4,
 "nbformat_minor": 2
}
