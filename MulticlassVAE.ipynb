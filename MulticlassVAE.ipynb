{
 "cells": [
  {
   "cell_type": "code",
   "execution_count": 1,
   "metadata": {
    "collapsed": true
   },
   "outputs": [],
   "source": [
    "%matplotlib inline\n",
    "\n",
    "import tensorflow as tf\n",
    "import numpy as np\n",
    "import matplotlib.pyplot as plt\n",
    "import os\n",
    "import random\n",
    "from skimage.measure import block_reduce"
   ]
  },
  {
   "cell_type": "markdown",
   "metadata": {},
   "source": [
    "### Define Hyperparameters"
   ]
  },
  {
   "cell_type": "code",
   "execution_count": 21,
   "metadata": {
    "collapsed": true
   },
   "outputs": [],
   "source": [
    "batch_size = 4\n",
    "n_classes = 5"
   ]
  },
  {
   "cell_type": "markdown",
   "metadata": {},
   "source": [
    "### Define Computation Graph"
   ]
  },
  {
   "cell_type": "code",
   "execution_count": 22,
   "metadata": {
    "collapsed": true
   },
   "outputs": [],
   "source": [
    "def lrelu(x, alpha=0.3):\n",
    "    return tf.maximum(x, tf.multiply(x, alpha))\n",
    "\n",
    "\n",
    "def scale_and_shift_flat(x, labels, name='s_and_s'):\n",
    "    with tf.variable_scope(name, reuse=None):\n",
    "        axis = [1]\n",
    "        x_shape = x.get_shape().as_list()\n",
    "        beta = tf.get_variable( 'beta', [n_classes])\n",
    "        gamma = tf.get_variable( 'gamma', [n_classes])\n",
    "\n",
    "        class_shift = tf.gather(beta, labels)\n",
    "        class_shift = tf.expand_dims(class_shift, 1)\n",
    "\n",
    "        class_scale = tf.gather(gamma, labels)\n",
    "        class_scale = tf.expand_dims(class_scale, 1)\n",
    "\n",
    "        variance_epsilon = 0.01\n",
    "        mean, variance = tf.nn.moments(x, axis, keep_dims=True)\n",
    "        output = tf.nn.batch_normalization(x=x, mean=mean,\n",
    "                                           variance=variance,\n",
    "                                           offset=class_shift, scale=class_scale,\n",
    "                                           variance_epsilon=variance_epsilon)\n",
    "        return output\n",
    "        \n",
    "\n",
    "def scale_and_shift(x, labels, name='s_and_s'):\n",
    "    with tf.variable_scope(name, reuse=None):\n",
    "        axis = [1,2]\n",
    "        x_shape = x.get_shape().as_list()\n",
    "        beta = tf.get_variable( 'beta', [n_classes])\n",
    "        gamma = tf.get_variable( 'gamma', [n_classes])\n",
    "        \n",
    "        class_shift = tf.gather(beta, labels)\n",
    "        class_shift = tf.expand_dims(tf.expand_dims(tf.expand_dims(class_shift, 1), 1), 1)\n",
    "        \n",
    "        class_scale = tf.gather(gamma, labels)\n",
    "        class_scale = tf.expand_dims(tf.expand_dims(tf.expand_dims(class_scale, 1), 1), 1)\n",
    "        \n",
    "        variance_epsilon = 0.01\n",
    "        mean, variance = tf.nn.moments(x, axis, keep_dims=True)\n",
    "        output = tf.nn.batch_normalization(x=x, mean=mean,\n",
    "                                           variance=variance,\n",
    "                                           offset=class_shift, scale=class_scale,\n",
    "                                           variance_epsilon=variance_epsilon)\n",
    "        return output\n",
    "\n",
    "    \n",
    "def encoder(X_in, labels, keep_prob):\n",
    "    activation = lrelu\n",
    "    with tf.variable_scope(\"encoder\", reuse=None):\n",
    "        X = tf.reshape(X_in, shape=[-1, 210, 160, 3])\n",
    "        \n",
    "        x = tf.layers.conv2d(X, filters=64, kernel_size=4, strides=2, padding='same', activation=activation)\n",
    "        x = scale_and_shift(x, labels, name='s_and_s/1')\n",
    "        x = tf.nn.dropout(x, keep_prob)\n",
    "        \n",
    "        x = tf.layers.conv2d(x, filters=64, kernel_size=4, strides=2, padding='same', activation=activation)\n",
    "        x = scale_and_shift(x, labels, name='s_and_s/2')\n",
    "        x = tf.nn.dropout(x, keep_prob)\n",
    "        \n",
    "        x = tf.layers.conv2d(x, filters=64, kernel_size=4, strides=1, padding='same', activation=activation)\n",
    "        x = scale_and_shift(x, labels, name='s_and_s/3')\n",
    "        x = tf.nn.dropout(x, keep_prob)\n",
    "        \n",
    "        x = tf.contrib.layers.flatten(x)\n",
    "        mn = tf.layers.dense(x, units=n_latent)\n",
    "        sd = 0.5 * tf.layers.dense(x, units=n_latent)            \n",
    "        epsilon = tf.random_normal(tf.stack([tf.shape(x)[0], n_latent])) \n",
    "        z  = mn + tf.multiply(epsilon, tf.exp(sd))\n",
    "        return z, mn, sd\n",
    "\n",
    "\n",
    "def decoder(sampled_z, labels, keep_prob):\n",
    "    with tf.variable_scope(\"decoder\", reuse=None):\n",
    "        x = tf.layers.dense(sampled_z, units=inputs_decoder, activation=lrelu)\n",
    "        x = scale_and_shift_flat(x, labels, name='s_and_s/4')\n",
    "        \n",
    "        x = tf.layers.dense(x, units=(inputs_decoder * 2 + 1), activation=lrelu)\n",
    "        x = scale_and_shift_flat(x, labels, name='s_and_s/5')\n",
    "        x = tf.reshape(x, reshaped_dim)\n",
    "        \n",
    "        x = tf.layers.conv2d_transpose(x, filters=64, kernel_size=4, strides=2, padding='same', activation=tf.nn.relu)\n",
    "        x = scale_and_shift(x, labels, name='s_and_s/6')\n",
    "        x = tf.nn.dropout(x, keep_prob)\n",
    "        \n",
    "        x = tf.layers.conv2d_transpose(x, filters=64, kernel_size=4, strides=1, padding='same', activation=tf.nn.relu)\n",
    "        x = scale_and_shift(x, labels, name='s_and_s/7')\n",
    "        x = tf.nn.dropout(x, keep_prob)\n",
    "        \n",
    "        x = tf.layers.conv2d_transpose(x, filters=64, kernel_size=4, strides=1, padding='same', activation=tf.nn.relu)\n",
    "        x = scale_and_shift(x, labels, name='s_and_s/8')\n",
    "        \n",
    "        x = tf.contrib.layers.flatten(x)\n",
    "        x = tf.layers.dense(x, units=210*160*3, activation=tf.nn.sigmoid)\n",
    "        img = tf.reshape(x, shape=[-1, 210, 160, 3])\n",
    "        return img"
   ]
  },
  {
   "cell_type": "markdown",
   "metadata": {},
   "source": [
    "### Initialize Computation Graph"
   ]
  },
  {
   "cell_type": "code",
   "execution_count": 23,
   "metadata": {},
   "outputs": [
    {
     "name": "stdout",
     "output_type": "stream",
     "text": [
      "Starting session...\n",
      "Initializing variables...\n",
      "Variables initialized.\n"
     ]
    }
   ],
   "source": [
    "tf.reset_default_graph()\n",
    "\n",
    "batch_size = 4\n",
    "n_classes = 10\n",
    "\n",
    "X_in = tf.placeholder(dtype=tf.float32, shape=[None, 70, 54, 3], name='X')\n",
    "Labels = tf.placeholder(dtype=tf.int32, shape=[None], name='Labels')\n",
    "Y = tf.placeholder(dtype=tf.float32, shape=[None, 70, 54, 3], name='Y')\n",
    "Y_flat = tf.reshape(Y, shape=[-1, 70*54*3])\n",
    "keep_prob = tf.placeholder(dtype=tf.float32, shape=(), name='keep_prob')\n",
    "\n",
    "dec_in_channels = 1\n",
    "n_latent = 8\n",
    "\n",
    "reshaped_dim = [-1, 7, 7, dec_in_channels]\n",
    "inputs_decoder = 49 * dec_in_channels // 2\n",
    "\n",
    "sampled, mn, sd = encoder(X_in, Labels, keep_prob)\n",
    "dec = decoder(sampled, Labels, keep_prob)\n",
    "\n",
    "unreshaped = tf.reshape(dec, [-1, 70*54*3])\n",
    "img_loss = tf.reduce_sum(tf.squared_difference(unreshaped, Y_flat), 1)\n",
    "latent_loss = -0.5 * tf.reduce_sum(1.0 + 2.0 * sd - tf.square(mn) - tf.exp(2.0 * sd), 1)\n",
    "loss = tf.reduce_mean(img_loss + latent_loss)\n",
    "\n",
    "# introduce variable learning rate\n",
    "global_step = tf.Variable(0, trainable=False)\n",
    "starter_learning_rate = 0.0005\n",
    "learning_rate = tf.train.exponential_decay(starter_learning_rate, global_step,\n",
    "                                           1000, 0.96, staircase=True)\n",
    "\n",
    "optimizer = tf.train.AdamOptimizer(learning_rate).minimize(loss)\n",
    "print('Starting session...')\n",
    "sess = tf.Session()\n",
    "print('Initializing variables...')\n",
    "sess.run(tf.global_variables_initializer())\n",
    "print('Variables initialized.')"
   ]
  },
  {
   "cell_type": "markdown",
   "metadata": {},
   "source": [
    "### Gather New Training Data"
   ]
  },
  {
   "cell_type": "code",
   "execution_count": 5,
   "metadata": {},
   "outputs": [
    {
     "name": "stdout",
     "output_type": "stream",
     "text": [
      "Found 500 files.\n"
     ]
    }
   ],
   "source": [
    "directories = ['jamesbond', 'spaceinvaders', 'tutankham', 'venture', 'zaxxon']\n",
    "state_label_pairs = []\n",
    "for i, root_dir in enumerate(directories):\n",
    "    for dir_name, subdir_list, file_list in os.walk(root_dir+'/'):\n",
    "        for fname in file_list:\n",
    "            state_label_pairs.append((root_dir + '/' + fname, i))\n",
    "\n",
    "print('Found {} files.'.format(len(state_label_pairs)))"
   ]
  },
  {
   "cell_type": "markdown",
   "metadata": {},
   "source": [
    "### Train the Model"
   ]
  },
  {
   "cell_type": "code",
   "execution_count": 24,
   "metadata": {},
   "outputs": [
    {
     "name": "stdout",
     "output_type": "stream",
     "text": [
      "(210, 160, 3)\n",
      "\t (210, 160, 3)\n",
      "\t\t (70, 54, 3)\n"
     ]
    },
    {
     "data": {
      "image/png": "[encoded data removed]",
      "text/plain": [
       "<matplotlib.figure.Figure at 0x124de8d30>"
      ]
     },
     "metadata": {},
     "output_type": "display_data"
    },
    {
     "name": "stdout",
     "output_type": "stream",
     "text": [
      "(250, 160, 3)\n",
      "\t (210, 160, 3)\n",
      "\t\t (70, 54, 3)\n"
     ]
    },
    {
     "data": {
      "image/png": "[encoded data removed]",
      "text/plain": [
       "<matplotlib.figure.Figure at 0x1165844e0>"
      ]
     },
     "metadata": {},
     "output_type": "display_data"
    },
    {
     "name": "stdout",
     "output_type": "stream",
     "text": [
      "(210, 160, 3)\n",
      "\t (210, 160, 3)\n",
      "\t\t (70, 54, 3)\n"
     ]
    },
    {
     "data": {
      "image/png": "[encoded data removed]",
      "text/plain": [
       "<matplotlib.figure.Figure at 0x259b6f470>"
      ]
     },
     "metadata": {},
     "output_type": "display_data"
    },
    {
     "name": "stdout",
     "output_type": "stream",
     "text": [
      "(210, 160, 3)\n",
      "\t (210, 160, 3)\n",
      "\t\t (70, 54, 3)\n"
     ]
    },
    {
     "data": {
      "image/png": "[encoded data removed]",
      "text/plain": [
       "<matplotlib.figure.Figure at 0x259bd04e0>"
      ]
     },
     "metadata": {},
     "output_type": "display_data"
    }
   ],
   "source": [
    "def reduce_image_shape(image):\n",
    "    height = image.shape[0] - 210\n",
    "    change = height // 2\n",
    "    cut_image = image[change:(change+210),:]\n",
    "    return cut_image\n",
    "    \n",
    "def downsample_image(image):\n",
    "    red_image = block_reduce(image, block_size=(3, 3, 1), func=np.mean)\n",
    "    return red_image\n",
    "\n",
    "def read_image(filename):\n",
    "    image = np.load(filename)\n",
    "    print(image.shape)\n",
    "    cut_image = reduce_image_shape(image)\n",
    "    print('\\t', cut_image.shape)\n",
    "    red_image = downsample_image(cut_image)\n",
    "    print('\\t\\t', red_image.shape)\n",
    "    plt.imshow(red_image)\n",
    "    plt.show()\n",
    "    return red_image\n",
    "\n",
    "\n",
    "batch_losses = []\n",
    "avg_img_losses = []\n",
    "sparse_batch_losses = []\n",
    "\n",
    "for i in range(1):\n",
    "    next_batch = random.sample(state_label_pairs, batch_size)\n",
    "    batch = [read_image(b[0]) for b in next_batch]\n",
    "    labels = [lab[1] for lab in next_batch]\n",
    "    break\n",
    "    batch_loss, batch_img_loss, _ = sess.run([loss, img_loss, optimizer], feed_dict = {X_in: batch, Y: batch, Labels: labels, keep_prob: 0.8})\n",
    "    batch_losses.append(batch_loss)\n",
    "    avg_img_losses.append(np.mean(batch_img_loss))\n",
    "        \n",
    "    if not i % 200:\n",
    "        batch_loss, decoded, batch_img_loss, mu, sigm = sess.run([loss, dec, img_loss, mn, sd], feed_dict = {X_in: batch, Y: batch, Labels: labels, keep_prob: 1.0})\n",
    "        batch_losses.append(batch_loss)\n",
    "        sparse_batch_losses.append(batch_loss)\n",
    "        avg_img_losses.append(np.mean(batch_img_loss))\n",
    "        \n",
    "        plt.imsave(fname='multi_vae_results/iteration_{}_original.png'.format(i), arr=np.reshape(batch[0], [210, 160, 3]), format='png')\n",
    "        plt.imsave(fname='multi_vae_results/iteration_{}_reconstructed.png'.format(i), arr=decoded[0], format='png')\n",
    "        \n",
    "        # plt.title('Batch losses')\n",
    "        # plt.plot(np.arange(len(batch_losses)), batch_losses)\n",
    "        # plt.tight_layout()\n",
    "        # plt.savefig('multi_vae_results/iteration_{}_batch_losses', dpi=300)\n",
    "        \n",
    "        # plt.title('Sparse Batch losses')\n",
    "        # plt.plot(np.arange(len(sparse_batch_losses)), sparse_batch_losses)\n",
    "        # plt.tight_layout()\n",
    "        # plt.savefig('multi_vae_results/iteration_{}_sparse_batch_losses', dpi=300)\n",
    "        \n",
    "        print('iteration: {}; batch loss: {}, mean img loss: {}'.format(i, batch_loss, np.mean(batch_img_loss)))\n",
    "\n",
    "np.save(file='all_batch_losses', arr=batch_losses)\n",
    "np.save(file='sparse_batch_losses', arr=sparse_batch_losses)"
   ]
  },
  {
   "cell_type": "markdown",
   "metadata": {},
   "source": [
    "### Sample New Images"
   ]
  },
  {
   "cell_type": "code",
   "execution_count": null,
   "metadata": {
    "collapsed": true
   },
   "outputs": [],
   "source": [
    "n_samples = 10\n",
    "randoms = [np.random.normal(0, 1, n_latent) for _ in range(n_samples)]\n",
    "classes = [np.random.choice(n_classes) for _ in range(n_samples)]\n",
    "imgs = sess.run(dec, feed_dict = {sampled: randoms, keep_prob: 1.0})\n",
    "imgs = [np.reshape(imgs[i], [210, 160, 3]) for i in range(len(imgs))]\n",
    "\n",
    "for img in imgs:\n",
    "    plt.figure(figsize=(1,1))\n",
    "    plt.axis('off')\n",
    "    plt.imshow(img)\n",
    "    \n",
    "n_samples = 10\n",
    "randoms = [np.random.normal(0, 1, n_latent) for _ in range(n_samples)]\n",
    "labels = [np.random.choice(n_classes) for _ in range(n_samples)]\n",
    "imgs = sess.run(dec, feed_dict = {sampled: randoms, Labels: labels, keep_prob: 1.0})\n",
    "imgs = [np.reshape(imgs[i], [210, 160, 3]) for i in range(len(imgs))]\n",
    "\n",
    "for i, img, c in zip(range(n_samples, imgs, classes)):\n",
    "    plt.imsave(fname='multi_vae_results/reconstruction_{}_class_{}'.format(i, c), arr=img, format='png')"
   ]
  }
 ],
 "metadata": {
  "kernelspec": {
   "display_name": "Venv Python 3",
   "language": "python",
   "name": "venv_3"
  },
  "language_info": {
   "codemirror_mode": {
    "name": "ipython",
    "version": 3
   },
   "file_extension": ".py",
   "mimetype": "text/x-python",
   "name": "python",
   "nbconvert_exporter": "python",
   "pygments_lexer": "ipython3",
   "version": "3.6.2"
  }
 },
 "nbformat": 4,
 "nbformat_minor": 2
}
